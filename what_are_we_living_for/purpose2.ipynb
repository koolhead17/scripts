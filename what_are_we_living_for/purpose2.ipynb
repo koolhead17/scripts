{
 "cells": [
  {
   "cell_type": "code",
   "execution_count": 4,
   "metadata": {},
   "outputs": [
    {
     "data": {
      "image/png": "[encoded data removed]",
      "text/plain": [
       "<matplotlib.figure.Figure at 0x10596c4d0>"
      ]
     },
     "metadata": {},
     "output_type": "display_data"
    }
   ],
   "source": [
    " import matplotlib.pyplot as plt\n",
    " from wordcloud import WordCloud, ImageColorGenerator\n",
    " import numpy as np\n",
    " from PIL import Image\n",
    "\n",
    " #read in image and its colors\n",
    " mask = np.array(Image.open('alice_color.png'))\n",
    " image_colors = ImageColorGenerator(mask)\n",
    "\n",
    "text = (12 * \" Love\") + (8 * \" Sex\") + (10 * \" Happiness\") + (7 * \" Power\") + (10 * \" Peace\") + (3 * \" Others\")\n",
    "\n",
    "wordcloud_final = WordCloud(\n",
    "     font_path='/Library/Fonts/Phosphate.ttc',\n",
    "     background_color='white',\n",
    "     width=10000,\n",
    "     height=5000,\n",
    "     relative_scaling = 0.8,\n",
    "    mask=mask\n",
    " ).generate(text)  \n",
    "\n",
    "plt.imshow(wordcloud_final.recolor(color_func=image_colors))\n",
    "plt.axis(\"off\")\n",
    "plt.show()"
   ]
  },
  {
   "cell_type": "code",
   "execution_count": null,
   "metadata": {
    "collapsed": true
   },
   "outputs": [],
   "source": []
  }
 ],
 "metadata": {
  "kernelspec": {
   "display_name": "Python 2",
   "language": "python",
   "name": "python2"
  },
  "language_info": {
   "codemirror_mode": {
    "name": "ipython",
    "version": 2
   },
   "file_extension": ".py",
   "mimetype": "text/x-python",
   "name": "python",
   "nbconvert_exporter": "python",
   "pygments_lexer": "ipython2",
   "version": "2.7.10"
  }
 },
 "nbformat": 4,
 "nbformat_minor": 2
}
